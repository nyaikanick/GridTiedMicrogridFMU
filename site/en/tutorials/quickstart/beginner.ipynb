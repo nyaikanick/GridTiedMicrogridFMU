{
  "cells": [
    {
      "cell_type": "markdown",
      "metadata": {
        "id": "rX8mhOLljYeM"
      },
      "source": [
        "##### Copyright 2019 The TensorFlow Authors."
      ]
    },
    {
      "cell_type": "code",
      "source": [
        "# =============================\n",
        "# STEP 1: Install dependencies\n",
        "# =============================\n",
        "!pip install fmpy stable-baselines3[extra] gymnasium matplotlib pandas --quiet\n",
        "\n",
        "# =============================\n",
        "# STEP 2: Upload the FMU\n",
        "# =============================\n",
        "from google.colab import files\n",
        "uploaded = files.upload()  # Upload GridTiedMicrogridRLC.fmu\n",
        "\n",
        "# =============================\n",
        "# STEP 3: Simulate open-loop\n",
        "# =============================\n",
        "from fmpy import simulate_fmu\n",
        "import matplotlib.pyplot as plt\n",
        "\n",
        "result = simulate_fmu('GridTiedMicrogridRLC.fmu', stop_time=0.05)\n",
        "\n",
        "plt.figure(figsize=(10,4))\n",
        "plt.plot(result['time'], result['Vload'], label='Vload (V)')\n",
        "plt.plot(result['time'], result['IL'], label='IL (A)')\n",
        "plt.title('FMU Output (Open-loop)')\n",
        "plt.xlabel('Time (s)')\n",
        "plt.ylabel('Output')\n",
        "plt.grid(True)\n",
        "plt.legend()\n",
        "plt.show()\n",
        "\n",
        "# =============================\n",
        "# STEP 4: FMU environment with faults/disturbances\n",
        "# =============================\n",
        "import gymnasium as gym\n",
        "from gymnasium import spaces\n",
        "import numpy as np\n",
        "from fmpy import read_model_description, extract, instantiate_fmu\n",
        "import shutil\n",
        "import os\n",
        "\n",
        "class FMUMicrogridEnv(gym.Env):\n",
        "    def __init__(self, fmu_path='GridTiedMicrogridRLC.fmu'):\n",
        "        super().__init__()\n",
        "        self.fmu_path = fmu_path\n",
        "        self.start_time = 0.0\n",
        "        self.stop_time = 0.02  # Shorter for fast training\n",
        "        self.step_size = 1e-4\n",
        "        self.disturbance_start = 0.005\n",
        "        self.disturbance_magnitude = -50.0  # Dip of -50V\n",
        "        self.observation_space = spaces.Box(low=-1e3, high=1e3, shape=(2,), dtype=np.float32)\n",
        "        self.action_space = spaces.Box(low=-400.0, high=400.0, shape=(1,), dtype=np.float32)\n",
        "        self._prepare_fmu()\n",
        "\n",
        "    def _prepare_fmu(self):\n",
        "        self.model_description = read_model_description(self.fmu_path)\n",
        "        unzipdir = extract(self.fmu_path)\n",
        "        self.fmu = instantiate_fmu(self.model_description, unzipdir, 'CoSimulation', visible=False, loggingOn=False)\n",
        "        self.fmu.setupExperiment(startTime=self.start_time, stopTime=self.stop_time)\n",
        "        self.fmu.enterInitializationMode()\n",
        "        self.vgrid_nominal = 240.0\n",
        "        self.fmu.setReal([self.fmu.getVariableByName(\"Vinv\").valueReference], [0.0])\n",
        "        self.fmu.exitInitializationMode()\n",
        "        self.time = self.start_time\n",
        "\n",
        "    def reset(self, seed=None, options=None):\n",
        "        if hasattr(self, 'fmu'):\n",
        "            self.fmu.terminate()\n",
        "            self.fmu.freeInstance()\n",
        "        self._prepare_fmu()\n",
        "        self.log = []\n",
        "        return self._observe(), {}\n",
        "\n",
        "    def _observe(self):\n",
        "        Vload = self.fmu.getReal([self.fmu.getVariableByName(\"Vload\").valueReference])[0]\n",
        "        IL = self.fmu.getReal([self.fmu.getVariableByName(\"IL\").valueReference])[0]\n",
        "        return np.array([Vload, IL], dtype=np.float32)\n",
        "\n",
        "    def step(self, action):\n",
        "        action = float(np.clip(action[0], -400, 400))\n",
        "\n",
        "        # Apply disturbance to grid voltage after disturbance_start time\n",
        "        if self.time >= self.disturbance_start:\n",
        "            disturbed_vg = self.vgrid_nominal + self.disturbance_magnitude\n",
        "            self.fmu.setReal([self.fmu.getVariableByName(\"gridVoltage.V\").valueReference], [disturbed_vg])\n",
        "\n",
        "        self.fmu.setReal([self.fmu.getVariableByName(\"Vinv\").valueReference], [action])\n",
        "        self.fmu.doStep(currentCommunicationPoint=self.time, communicationStepSize=self.step_size)\n",
        "        self.time += self.step_size\n",
        "\n",
        "        obs = self._observe()\n",
        "        reward = -((obs[0] - 240)**2 + 0.1 * (obs[1])**2)\n",
        "        terminated = self.time >= self.stop_time\n",
        "\n",
        "        # Log values\n",
        "        self.log.append({\n",
        "            'time': self.time,\n",
        "            'Vload': obs[0],\n",
        "            'IL': obs[1],\n",
        "            'action': action,\n",
        "            'reward': reward\n",
        "        })\n",
        "\n",
        "        return obs, reward, terminated, False, {}\n",
        "\n",
        "    def close(self):\n",
        "        if hasattr(self, 'fmu'):\n",
        "            self.fmu.terminate()\n",
        "            self.fmu.freeInstance()\n",
        "        shutil.rmtree('temp_fmu', ignore_errors=True)\n",
        "\n",
        "# =============================\n",
        "# STEP 5: Train DQN\n",
        "# =============================\n",
        "from stable_baselines3 import DQN\n",
        "from stable_baselines3.common.env_checker import check_env\n",
        "\n",
        "env = FMUMicrogridEnv()\n",
        "check_env(env, warn=True)\n",
        "\n",
        "model = DQN(\n",
        "    \"MlpPolicy\", env,\n",
        "    learning_rate=1e-3,\n",
        "    buffer_size=5000,\n",
        "    learning_starts=1000,\n",
        "    batch_size=32,\n",
        "    train_freq=1,\n",
        "    target_update_interval=250,\n",
        "    gamma=0.99,\n",
        "    verbose=1\n",
        ")\n",
        "\n",
        "model.learn(total_timesteps=5000)\n",
        "\n",
        "# =============================\n",
        "# STEP 6: Run agent and log data\n",
        "# =============================\n",
        "obs, _ = env.reset()\n",
        "obs_list, reward_list = [], []\n",
        "\n",
        "for _ in range(200):\n",
        "    action, _ = model.predict(obs, deterministic=True)\n",
        "    obs, reward, terminated, truncated, _ = env.step(action)\n",
        "    obs_list.append(obs)\n",
        "    reward_list.append(reward)\n",
        "    if terminated: break\n",
        "\n",
        "env.close()\n",
        "\n",
        "# =============================\n",
        "# STEP 7: Plot and Export CSV\n",
        "# =============================\n",
        "import pandas as pd\n",
        "\n",
        "log_df = pd.DataFrame(env.log)\n",
        "log_df.to_csv(\"fmu_dqn_log.csv\", index=False)\n",
        "\n",
        "plt.figure(figsize=(10, 4))\n",
        "plt.plot(log_df['time'], log_df['Vload'], label='Vload (V)')\n",
        "plt.plot(log_df['time'], log_df['IL'], label='IL (A)')\n",
        "plt.plot(log_df['time'], log_df['action'], label='DQN Action (V)')\n",
        "plt.title('DQN-Controlled Response with Disturbance')\n",
        "plt.xlabel('Time (s)')\n",
        "plt.grid(True)\n",
        "plt.legend()\n",
        "plt.show()\n",
        "\n",
        "# Download the CSV\n",
        "from google.colab import files\n",
        "files.download(\"fmu_dqn_log.csv\")\n"
      ],
      "metadata": {
        "id": "aJ0sycV-Rkt0"
      },
      "execution_count": null,
      "outputs": []
    },
    {
      "cell_type": "code",
      "execution_count": null,
      "metadata": {
        "cellView": "form",
        "id": "BZSlp3DAjdYf"
      },
      "outputs": [],
      "source": [
        "#@title Licensed under the Apache License, Version 2.0 (the \"License\");\n",
        "# you may not use this file except in compliance with the License.\n",
        "# You may obtain a copy of the License at\n",
        "#\n",
        "# https://www.apache.org/licenses/LICENSE-2.0\n",
        "#\n",
        "# Unless required by applicable law or agreed to in writing, software\n",
        "# distributed under the License is distributed on an \"AS IS\" BASIS,\n",
        "# WITHOUT WARRANTIES OR CONDITIONS OF ANY KIND, either express or implied.\n",
        "# See the License for the specific language governing permissions and\n",
        "# limitations under the License."
      ]
    },
    {
      "cell_type": "markdown",
      "metadata": {
        "id": "3wF5wszaj97Y"
      },
      "source": [
        "# TensorFlow 2 quickstart for beginners"
      ]
    },
    {
      "cell_type": "markdown",
      "metadata": {
        "id": "DUNzJc4jTj6G"
      },
      "source": [
        "<table class=\"tfo-notebook-buttons\" align=\"left\">\n",
        "  <td>\n",
        "    <a target=\"_blank\" href=\"https://www.tensorflow.org/tutorials/quickstart/beginner\"><img src=\"https://www.tensorflow.org/images/tf_logo_32px.png\" />View on TensorFlow.org</a>\n",
        "  </td>\n",
        "  <td>\n",
        "    <a target=\"_blank\" href=\"https://colab.research.google.com/github/tensorflow/docs/blob/master/site/en/tutorials/quickstart/beginner.ipynb\"><img src=\"https://www.tensorflow.org/images/colab_logo_32px.png\" />Run in Google Colab</a>\n",
        "  </td>\n",
        "  <td>\n",
        "    <a target=\"_blank\" href=\"https://github.com/tensorflow/docs/blob/master/site/en/tutorials/quickstart/beginner.ipynb\"><img src=\"https://www.tensorflow.org/images/GitHub-Mark-32px.png\" />View source on GitHub</a>\n",
        "  </td>\n",
        "  <td>\n",
        "    <a href=\"https://storage.googleapis.com/tensorflow_docs/docs/site/en/tutorials/quickstart/beginner.ipynb\"><img src=\"https://www.tensorflow.org/images/download_logo_32px.png\" />Download notebook</a>\n",
        "  </td>\n",
        "</table>"
      ]
    },
    {
      "cell_type": "markdown",
      "metadata": {
        "id": "04QgGZc9bF5D"
      },
      "source": [
        "This short introduction uses [Keras](https://www.tensorflow.org/guide/keras/overview) to:\n",
        "\n",
        "1. Load a prebuilt dataset.\n",
        "1. Build a neural network machine learning model that classifies images.\n",
        "2. Train this neural network.\n",
        "3. Evaluate the accuracy of the model."
      ]
    },
    {
      "cell_type": "markdown",
      "metadata": {
        "id": "hiH7AC-NTniF"
      },
      "source": [
        "This tutorial is a [Google Colaboratory](https://colab.research.google.com/notebooks/welcome.ipynb) notebook. Python programs are run directly in the browser—a great way to learn and use TensorFlow. To follow this tutorial, run the notebook in Google Colab by clicking the button at the top of this page.\n",
        "\n",
        "1. In Colab, connect to a Python runtime: At the top-right of the menu bar, select *CONNECT*.\n",
        "2. To run all the code in the notebook, select **Runtime** > **Run all**. To run the code cells one at a time, hover over each cell and select the **Run cell** icon.\n",
        "\n",
        "![Run cell icon](https://github.com/tensorflow/docs/blob/master/site/en/tutorials/quickstart/images/beginner/run_cell_icon.png?raw=1)"
      ]
    },
    {
      "cell_type": "markdown",
      "metadata": {
        "id": "nnrWf3PCEzXL"
      },
      "source": [
        "## Set up TensorFlow\n",
        "\n",
        "Import TensorFlow into your program to get started:"
      ]
    },
    {
      "cell_type": "code",
      "execution_count": null,
      "metadata": {
        "id": "0trJmd6DjqBZ"
      },
      "outputs": [],
      "source": [
        "import tensorflow as tf\n",
        "print(\"TensorFlow version:\", tf.__version__)"
      ]
    },
    {
      "cell_type": "markdown",
      "metadata": {
        "id": "7NAbSZiaoJ4z"
      },
      "source": [
        "If you are following along in your own development environment, rather than [Colab](https://colab.research.google.com/github/tensorflow/docs/blob/master/site/en/tutorials/quickstart/beginner.ipynb), see the [install guide](https://www.tensorflow.org/install) for setting up TensorFlow for development.\n",
        "\n",
        "Note: Make sure you have upgraded to the latest `pip` to install the TensorFlow 2 package if you are using your own development environment. See the [install guide](https://www.tensorflow.org/install) for details.\n",
        "\n",
        "## Load a dataset\n",
        "\n",
        "Load and prepare the MNIST dataset. The pixel values of the images range from 0 through 255. Scale these values to a range of 0 to 1 by dividing the values by `255.0`. This also converts the sample data from integers to floating-point numbers:"
      ]
    },
    {
      "cell_type": "code",
      "execution_count": null,
      "metadata": {
        "id": "7FP5258xjs-v"
      },
      "outputs": [],
      "source": [
        "mnist = tf.keras.datasets.mnist\n",
        "\n",
        "(x_train, y_train), (x_test, y_test) = mnist.load_data()\n",
        "x_train, x_test = x_train / 255.0, x_test / 255.0"
      ]
    },
    {
      "cell_type": "markdown",
      "metadata": {
        "id": "BPZ68wASog_I"
      },
      "source": [
        "## Build a machine learning model\n",
        "\n",
        "Build a `tf.keras.Sequential` model:"
      ]
    },
    {
      "cell_type": "code",
      "execution_count": null,
      "metadata": {
        "id": "h3IKyzTCDNGo"
      },
      "outputs": [],
      "source": [
        "model = tf.keras.models.Sequential([\n",
        "  tf.keras.layers.Flatten(input_shape=(28, 28)),\n",
        "  tf.keras.layers.Dense(128, activation='relu'),\n",
        "  tf.keras.layers.Dropout(0.2),\n",
        "  tf.keras.layers.Dense(10)\n",
        "])"
      ]
    },
    {
      "cell_type": "markdown",
      "metadata": {
        "id": "l2hiez2eIUz8"
      },
      "source": [
        "[`Sequential`](https://www.tensorflow.org/guide/keras/sequential_model) is useful for stacking layers where each layer has one input [tensor](https://www.tensorflow.org/guide/tensor) and one output tensor. Layers are functions with a known mathematical structure that can be reused and have trainable variables. Most TensorFlow models are composed of layers. This model uses the [`Flatten`](https://www.tensorflow.org/api_docs/python/tf/keras/layers/Flatten), [`Dense`](https://www.tensorflow.org/api_docs/python/tf/keras/layers/Dense), and [`Dropout`](https://www.tensorflow.org/api_docs/python/tf/keras/layers/Dropout) layers.\n",
        "\n",
        "For each example, the model returns a vector of [logits](https://developers.google.com/machine-learning/glossary#logits) or [log-odds](https://developers.google.com/machine-learning/glossary#log-odds) scores, one for each class."
      ]
    },
    {
      "cell_type": "code",
      "execution_count": null,
      "metadata": {
        "id": "OeOrNdnkEEcR"
      },
      "outputs": [],
      "source": [
        "predictions = model(x_train[:1]).numpy()\n",
        "predictions"
      ]
    },
    {
      "cell_type": "markdown",
      "metadata": {
        "id": "tgjhDQGcIniO"
      },
      "source": [
        "The `tf.nn.softmax` function converts these logits to *probabilities* for each class:"
      ]
    },
    {
      "cell_type": "code",
      "execution_count": null,
      "metadata": {
        "id": "zWSRnQ0WI5eq"
      },
      "outputs": [],
      "source": [
        "tf.nn.softmax(predictions).numpy()"
      ]
    },
    {
      "cell_type": "markdown",
      "metadata": {
        "id": "he5u_okAYS4a"
      },
      "source": [
        "Note: It is possible to bake the `tf.nn.softmax` function into the activation function for the last layer of the network. While this can make the model output more directly interpretable, this approach is discouraged as it's impossible to provide an exact and numerically stable loss calculation for all models when using a softmax output."
      ]
    },
    {
      "cell_type": "markdown",
      "metadata": {
        "id": "hQyugpgRIyrA"
      },
      "source": [
        "Define a loss function for training using `losses.SparseCategoricalCrossentropy`:"
      ]
    },
    {
      "cell_type": "code",
      "execution_count": null,
      "metadata": {
        "id": "RSkzdv8MD0tT"
      },
      "outputs": [],
      "source": [
        "loss_fn = tf.keras.losses.SparseCategoricalCrossentropy(from_logits=True)"
      ]
    },
    {
      "cell_type": "markdown",
      "metadata": {
        "id": "SfR4MsSDU880"
      },
      "source": [
        "The loss function takes a vector of ground truth values and a vector of logits and returns a scalar loss for each example. This loss is equal to the negative log probability of the true class: The loss is zero if the model is sure of the correct class.\n",
        "\n",
        "This untrained model gives probabilities close to random (1/10 for each class), so the initial loss should be close to `-tf.math.log(1/10) ~= 2.3`."
      ]
    },
    {
      "cell_type": "code",
      "execution_count": null,
      "metadata": {
        "id": "NJWqEVrrJ7ZB"
      },
      "outputs": [],
      "source": [
        "loss_fn(y_train[:1], predictions).numpy()"
      ]
    },
    {
      "cell_type": "markdown",
      "metadata": {
        "id": "ada44eb947d4"
      },
      "source": [
        "Before you start training, configure and compile the model using Keras `Model.compile`. Set the [`optimizer`](https://www.tensorflow.org/api_docs/python/tf/keras/optimizers) class to `adam`, set the `loss` to the `loss_fn` function you defined earlier, and specify a metric to be evaluated for the model by setting the `metrics` parameter to `accuracy`."
      ]
    },
    {
      "cell_type": "code",
      "execution_count": null,
      "metadata": {
        "id": "9foNKHzTD2Vo"
      },
      "outputs": [],
      "source": [
        "model.compile(optimizer='adam',\n",
        "              loss=loss_fn,\n",
        "              metrics=['accuracy'])"
      ]
    },
    {
      "cell_type": "markdown",
      "metadata": {
        "id": "ix4mEL65on-w"
      },
      "source": [
        "## Train and evaluate your model\n",
        "\n",
        "Use the `Model.fit` method to adjust your model parameters and minimize the loss:"
      ]
    },
    {
      "cell_type": "code",
      "execution_count": null,
      "metadata": {
        "id": "y7suUbJXVLqP"
      },
      "outputs": [],
      "source": [
        "model.fit(x_train, y_train, epochs=5)"
      ]
    },
    {
      "cell_type": "markdown",
      "metadata": {
        "id": "4mDAAPFqVVgn"
      },
      "source": [
        "The `Model.evaluate` method checks the model's performance, usually on a [validation set](https://developers.google.com/machine-learning/glossary#validation-set) or [test set](https://developers.google.com/machine-learning/glossary#test-set)."
      ]
    },
    {
      "cell_type": "code",
      "execution_count": null,
      "metadata": {
        "id": "F7dTAzgHDUh7"
      },
      "outputs": [],
      "source": [
        "model.evaluate(x_test,  y_test, verbose=2)"
      ]
    },
    {
      "cell_type": "markdown",
      "metadata": {
        "id": "T4JfEh7kvx6m"
      },
      "source": [
        "The image classifier is now trained to ~98% accuracy on this dataset. To learn more, read the [TensorFlow tutorials](https://www.tensorflow.org/tutorials/)."
      ]
    },
    {
      "cell_type": "markdown",
      "metadata": {
        "id": "Aj8NrlzlJqDG"
      },
      "source": [
        "If you want your model to return a probability, you can wrap the trained model, and attach the softmax to it:"
      ]
    },
    {
      "cell_type": "code",
      "execution_count": null,
      "metadata": {
        "id": "rYb6DrEH0GMv"
      },
      "outputs": [],
      "source": [
        "probability_model = tf.keras.Sequential([\n",
        "  model,\n",
        "  tf.keras.layers.Softmax()\n",
        "])"
      ]
    },
    {
      "cell_type": "code",
      "execution_count": null,
      "metadata": {
        "id": "cnqOZtUp1YR_"
      },
      "outputs": [],
      "source": [
        "probability_model(x_test[:5])"
      ]
    },
    {
      "cell_type": "markdown",
      "metadata": {
        "id": "-47O6_GLdRuT"
      },
      "source": [
        "## Conclusion\n",
        "\n",
        "Congratulations! You have trained a machine learning model using a prebuilt dataset using the [Keras](https://www.tensorflow.org/guide/keras/overview) API.\n",
        "\n",
        "For more examples of using Keras, check out the [tutorials](https://www.tensorflow.org/tutorials/keras/). To learn more about building models with Keras, read the [guides](https://www.tensorflow.org/guide/keras). If you want learn more about loading and preparing data, see the tutorials on [image data loading](https://www.tensorflow.org/tutorials/load_data/images) or [CSV data loading](https://www.tensorflow.org/tutorials/load_data/csv).\n"
      ]
    }
  ],
  "metadata": {
    "colab": {
      "name": "beginner.ipynb",
      "toc_visible": true,
      "provenance": []
    },
    "kernelspec": {
      "display_name": "Python 3",
      "name": "python3"
    }
  },
  "nbformat": 4,
  "nbformat_minor": 0
}